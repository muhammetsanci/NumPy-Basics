{
 "cells": [
  {
   "cell_type": "markdown",
   "id": "557dfd59",
   "metadata": {},
   "source": [
    "### 0. Declarations"
   ]
  },
  {
   "cell_type": "code",
   "execution_count": 6,
   "id": "1b2c9ffb",
   "metadata": {},
   "outputs": [],
   "source": [
    "import numpy as np"
   ]
  },
  {
   "cell_type": "markdown",
   "id": "7c48303a",
   "metadata": {},
   "source": [
    "### 1. Initializing Different Types of Arrays\n",
    "__1.1__ - We can initialize \"*all 0s matrix*\" as *np.zeros((n_of_row, n_of_column))*."
   ]
  },
  {
   "cell_type": "code",
   "execution_count": 7,
   "id": "151dee41",
   "metadata": {},
   "outputs": [
    {
     "data": {
      "text/plain": [
       "array([[0, 0, 0],\n",
       "       [0, 0, 0]], dtype=int32)"
      ]
     },
     "execution_count": 7,
     "metadata": {},
     "output_type": "execute_result"
    }
   ],
   "source": [
    "a = np.zeros((2, 3), dtype = \"int32\")\n",
    "a"
   ]
  },
  {
   "cell_type": "markdown",
   "id": "443968f2",
   "metadata": {},
   "source": [
    "__1.2__ - We can initialize \"*all 1s matrix*\" as *np.ones((n_of_row, n_of_column))*."
   ]
  },
  {
   "cell_type": "code",
   "execution_count": 8,
   "id": "2f6e0eba",
   "metadata": {},
   "outputs": [
    {
     "data": {
      "text/plain": [
       "array([[1, 1],\n",
       "       [1, 1],\n",
       "       [1, 1]], dtype=int32)"
      ]
     },
     "execution_count": 8,
     "metadata": {},
     "output_type": "execute_result"
    }
   ],
   "source": [
    "b = np.ones((3, 2), dtype = \"int32\")\n",
    "b"
   ]
  },
  {
   "cell_type": "markdown",
   "id": "48a94479",
   "metadata": {},
   "source": [
    "__1.3__ - We can create a *matrix filled with one given number* as *np.full((n_of_row, n_of_column), number)*."
   ]
  },
  {
   "cell_type": "code",
   "execution_count": 9,
   "id": "e39cb0cc",
   "metadata": {},
   "outputs": [
    {
     "data": {
      "text/plain": [
       "array([[-3, -3, -3],\n",
       "       [-3, -3, -3],\n",
       "       [-3, -3, -3]])"
      ]
     },
     "execution_count": 9,
     "metadata": {},
     "output_type": "execute_result"
    }
   ],
   "source": [
    "c = np.full((3, 3), -3)\n",
    "c"
   ]
  },
  {
   "cell_type": "markdown",
   "id": "f1851d47",
   "metadata": {},
   "source": [
    "### 2. Initializing Arrays From Random Numbers\n",
    "__2.1__ - We can initialize *random decimal number filled matrix* as *np.random.rand(n_of_row, n_of_column)*."
   ]
  },
  {
   "cell_type": "code",
   "execution_count": 10,
   "id": "d1a4781d",
   "metadata": {},
   "outputs": [
    {
     "data": {
      "text/plain": [
       "array([[0.22861772, 0.8015232 ],\n",
       "       [0.27379084, 0.60175374]])"
      ]
     },
     "execution_count": 10,
     "metadata": {},
     "output_type": "execute_result"
    }
   ],
   "source": [
    "d = np.random.rand(2, 2)\n",
    "d"
   ]
  },
  {
   "cell_type": "markdown",
   "id": "e3657223",
   "metadata": {},
   "source": [
    "__2.2__ - We can initialize *random integer number filled matrix* as *np.random.randint(lower_bound, upper_bound, (n_of_row, n_of_column))*."
   ]
  },
  {
   "cell_type": "code",
   "execution_count": 11,
   "id": "d5f455f8",
   "metadata": {},
   "outputs": [
    {
     "data": {
      "text/plain": [
       "array([[2, 5],\n",
       "       [3, 5]])"
      ]
     },
     "execution_count": 11,
     "metadata": {},
     "output_type": "execute_result"
    }
   ],
   "source": [
    "e = np.random.randint(1, 9, (2, 2))\n",
    "e"
   ]
  },
  {
   "cell_type": "markdown",
   "id": "81552457",
   "metadata": {},
   "source": [
    "### 3. Initializing Identity Matrixes\n",
    "__3.1__ - We can initialize an *identity matrix* as *np.identity(size)*."
   ]
  },
  {
   "cell_type": "code",
   "execution_count": 12,
   "id": "3f960a53",
   "metadata": {},
   "outputs": [
    {
     "data": {
      "text/plain": [
       "array([[1, 0, 0, 0, 0],\n",
       "       [0, 1, 0, 0, 0],\n",
       "       [0, 0, 1, 0, 0],\n",
       "       [0, 0, 0, 1, 0],\n",
       "       [0, 0, 0, 0, 1]], dtype=int32)"
      ]
     },
     "execution_count": 12,
     "metadata": {},
     "output_type": "execute_result"
    }
   ],
   "source": [
    "f = np.identity(5, dtype = \"int32\")\n",
    "f"
   ]
  },
  {
   "cell_type": "markdown",
   "id": "a5ae85f4",
   "metadata": {},
   "source": [
    "### 4. Copying Arrays\n",
    "When copying arrays, we should use *.copy()*<br>\n",
    "If we use assignment, new reference will point the same array."
   ]
  },
  {
   "cell_type": "code",
   "execution_count": 15,
   "id": "5ac082a3",
   "metadata": {},
   "outputs": [
    {
     "data": {
      "text/plain": [
       "array([[0, 0, 0],\n",
       "       [0, 0, 0]], dtype=int32)"
      ]
     },
     "execution_count": 15,
     "metadata": {},
     "output_type": "execute_result"
    }
   ],
   "source": [
    "b = a.copy()\n",
    "b"
   ]
  }
 ],
 "metadata": {
  "kernelspec": {
   "display_name": "Python 3 (ipykernel)",
   "language": "python",
   "name": "python3"
  },
  "language_info": {
   "codemirror_mode": {
    "name": "ipython",
    "version": 3
   },
   "file_extension": ".py",
   "mimetype": "text/x-python",
   "name": "python",
   "nbconvert_exporter": "python",
   "pygments_lexer": "ipython3",
   "version": "3.11.2"
  }
 },
 "nbformat": 4,
 "nbformat_minor": 5
}
