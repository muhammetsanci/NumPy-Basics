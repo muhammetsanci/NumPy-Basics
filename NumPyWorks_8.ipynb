{
 "cells": [
  {
   "cell_type": "markdown",
   "id": "2b7cfd82",
   "metadata": {},
   "source": [
    "### 0. Declarations"
   ]
  },
  {
   "cell_type": "code",
   "execution_count": 1,
   "id": "1715679b",
   "metadata": {},
   "outputs": [],
   "source": [
    "import numpy as np"
   ]
  },
  {
   "cell_type": "markdown",
   "id": "5f295152",
   "metadata": {},
   "source": [
    " "
   ]
  },
  {
   "cell_type": "code",
   "execution_count": 27,
   "id": "679ff51a",
   "metadata": {},
   "outputs": [],
   "source": [
    "# We can create matrixes with using arange() to create array and using reshape() to shape array as matrix.\n",
    "\n",
    "a = np.arange(1, 16).reshape((3, 5))"
   ]
  },
  {
   "cell_type": "code",
   "execution_count": 33,
   "id": "993d2a01",
   "metadata": {},
   "outputs": [
    {
     "data": {
      "text/plain": [
       "array([[ 4,  8,  9],\n",
       "       [-5,  7,  3],\n",
       "       [ 8, -4,  6],\n",
       "       [ 6,  6, -5]])"
      ]
     },
     "execution_count": 33,
     "metadata": {},
     "output_type": "execute_result"
    }
   ],
   "source": [
    "b = np.array([[4, 8, 9], [-5, 7, 3], [8, -4, 6], [6, 6, -5]])\n",
    "b"
   ]
  },
  {
   "cell_type": "markdown",
   "id": "e0a7640b",
   "metadata": {},
   "source": [
    "### 1. Advanced Matrix Operations\n",
    "__1.1__ - Transposing Arrays"
   ]
  },
  {
   "cell_type": "code",
   "execution_count": 28,
   "id": "75e4e7a8",
   "metadata": {},
   "outputs": [
    {
     "data": {
      "text/plain": [
       "array([[ 1,  2,  3,  4,  5],\n",
       "       [ 6,  7,  8,  9, 10],\n",
       "       [11, 12, 13, 14, 15]])"
      ]
     },
     "execution_count": 28,
     "metadata": {},
     "output_type": "execute_result"
    }
   ],
   "source": [
    "a"
   ]
  },
  {
   "cell_type": "code",
   "execution_count": 22,
   "id": "b63ec52b",
   "metadata": {
    "scrolled": true
   },
   "outputs": [
    {
     "data": {
      "text/plain": [
       "array([[ 1,  6, 11],\n",
       "       [ 2,  7, 12],\n",
       "       [ 3,  8, 13],\n",
       "       [ 4,  9, 14],\n",
       "       [ 5, 10, 15]])"
      ]
     },
     "execution_count": 22,
     "metadata": {},
     "output_type": "execute_result"
    }
   ],
   "source": [
    "a.T"
   ]
  },
  {
   "cell_type": "markdown",
   "id": "e174ed20",
   "metadata": {},
   "source": [
    "__1.1__ - Swapping Axes"
   ]
  },
  {
   "cell_type": "code",
   "execution_count": 21,
   "id": "896cd454",
   "metadata": {
    "scrolled": true
   },
   "outputs": [
    {
     "data": {
      "text/plain": [
       "array([[ 1,  6, 11],\n",
       "       [ 2,  7, 12],\n",
       "       [ 3,  8, 13],\n",
       "       [ 4,  9, 14],\n",
       "       [ 5, 10, 15]])"
      ]
     },
     "execution_count": 21,
     "metadata": {},
     "output_type": "execute_result"
    }
   ],
   "source": [
    "a.swapaxes(0, 1)"
   ]
  },
  {
   "cell_type": "markdown",
   "id": "6850970b",
   "metadata": {},
   "source": [
    "__1.2__ - Inner Product of Two Matrixes"
   ]
  },
  {
   "cell_type": "code",
   "execution_count": 19,
   "id": "8558f2b6",
   "metadata": {},
   "outputs": [
    {
     "data": {
      "text/plain": [
       "array([[158, 176, 194, 212, 230],\n",
       "       [176, 197, 218, 239, 260],\n",
       "       [194, 218, 242, 266, 290],\n",
       "       [212, 239, 266, 293, 320],\n",
       "       [230, 260, 290, 320, 350]])"
      ]
     },
     "execution_count": 19,
     "metadata": {},
     "output_type": "execute_result"
    }
   ],
   "source": [
    "np.dot(a.T, a)"
   ]
  },
  {
   "cell_type": "markdown",
   "id": "1eeec230",
   "metadata": {},
   "source": [
    "### 2. Advanced Array Operations\n",
    "__2.1__ - Taking Square Roots of Elements"
   ]
  },
  {
   "cell_type": "code",
   "execution_count": 24,
   "id": "dd33e99f",
   "metadata": {},
   "outputs": [
    {
     "data": {
      "text/plain": [
       "array([[1.        , 1.41421356, 1.73205081, 2.        , 2.23606798],\n",
       "       [2.44948974, 2.64575131, 2.82842712, 3.        , 3.16227766],\n",
       "       [3.31662479, 3.46410162, 3.60555128, 3.74165739, 3.87298335]])"
      ]
     },
     "execution_count": 24,
     "metadata": {},
     "output_type": "execute_result"
    }
   ],
   "source": [
    "np.sqrt(a)"
   ]
  },
  {
   "cell_type": "markdown",
   "id": "a4200e5d",
   "metadata": {},
   "source": [
    "__2.2__ - Taking Exponential of Elements"
   ]
  },
  {
   "cell_type": "code",
   "execution_count": 26,
   "id": "4d6e8a77",
   "metadata": {},
   "outputs": [
    {
     "data": {
      "text/plain": [
       "array([[2.71828183e+00, 7.38905610e+00, 2.00855369e+01, 5.45981500e+01,\n",
       "        1.48413159e+02],\n",
       "       [4.03428793e+02, 1.09663316e+03, 2.98095799e+03, 8.10308393e+03,\n",
       "        2.20264658e+04],\n",
       "       [5.98741417e+04, 1.62754791e+05, 4.42413392e+05, 1.20260428e+06,\n",
       "        3.26901737e+06]])"
      ]
     },
     "execution_count": 26,
     "metadata": {},
     "output_type": "execute_result"
    }
   ],
   "source": [
    "np.exp(a)"
   ]
  },
  {
   "cell_type": "markdown",
   "id": "b2746da1",
   "metadata": {},
   "source": [
    "__2.3__ - Sorting Arrays"
   ]
  },
  {
   "cell_type": "code",
   "execution_count": 37,
   "id": "94509d76",
   "metadata": {},
   "outputs": [
    {
     "data": {
      "text/plain": [
       "array([[ 4,  8,  9],\n",
       "       [-5,  3,  7],\n",
       "       [-4,  6,  8],\n",
       "       [-5,  6,  6]])"
      ]
     },
     "execution_count": 37,
     "metadata": {},
     "output_type": "execute_result"
    }
   ],
   "source": [
    "np.sort(b)"
   ]
  },
  {
   "cell_type": "code",
   "execution_count": 39,
   "id": "c5d86634",
   "metadata": {
    "scrolled": true
   },
   "outputs": [
    {
     "data": {
      "text/plain": [
       "array([[-5, -4, -5],\n",
       "       [ 4,  6,  3],\n",
       "       [ 6,  7,  6],\n",
       "       [ 8,  8,  9]])"
      ]
     },
     "execution_count": 39,
     "metadata": {},
     "output_type": "execute_result"
    }
   ],
   "source": [
    "np.sort(b, axis = 0)"
   ]
  },
  {
   "cell_type": "code",
   "execution_count": 36,
   "id": "c74b90a0",
   "metadata": {},
   "outputs": [
    {
     "data": {
      "text/plain": [
       "array([[ 4,  8,  9],\n",
       "       [-5,  3,  7],\n",
       "       [-4,  6,  8],\n",
       "       [-5,  6,  6]])"
      ]
     },
     "execution_count": 36,
     "metadata": {},
     "output_type": "execute_result"
    }
   ],
   "source": [
    "np.sort(b, axis = 1)"
   ]
  }
 ],
 "metadata": {
  "kernelspec": {
   "display_name": "Python 3 (ipykernel)",
   "language": "python",
   "name": "python3"
  },
  "language_info": {
   "codemirror_mode": {
    "name": "ipython",
    "version": 3
   },
   "file_extension": ".py",
   "mimetype": "text/x-python",
   "name": "python",
   "nbconvert_exporter": "python",
   "pygments_lexer": "ipython3",
   "version": "3.11.2"
  }
 },
 "nbformat": 4,
 "nbformat_minor": 5
}
