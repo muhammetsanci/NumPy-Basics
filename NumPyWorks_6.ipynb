{
 "cells": [
  {
   "cell_type": "markdown",
   "id": "db2c3d2e",
   "metadata": {},
   "source": [
    "### 0. Declarations"
   ]
  },
  {
   "cell_type": "code",
   "execution_count": 36,
   "id": "48cef184",
   "metadata": {},
   "outputs": [],
   "source": [
    "import numpy as np"
   ]
  },
  {
   "cell_type": "markdown",
   "id": "79adc202",
   "metadata": {},
   "source": [
    " "
   ]
  },
  {
   "cell_type": "code",
   "execution_count": 37,
   "id": "ce5e656e",
   "metadata": {},
   "outputs": [],
   "source": [
    "a = np.array([1, 2, 3, 4, 5, 6, 7, 8, 9, 10, 11, 12, 13, 14, 15, 16])"
   ]
  },
  {
   "cell_type": "code",
   "execution_count": 38,
   "id": "e74238ad",
   "metadata": {},
   "outputs": [],
   "source": [
    "b = np.array([[8, 7, 8, 7], [7, 8, 7, 8]])"
   ]
  },
  {
   "cell_type": "code",
   "execution_count": 39,
   "id": "4f34e6a9",
   "metadata": {},
   "outputs": [],
   "source": [
    "c = np.array([[5, 6, 5, 6], [6, 5, 6, 5]])"
   ]
  },
  {
   "cell_type": "code",
   "execution_count": 40,
   "id": "b8cdda20",
   "metadata": {},
   "outputs": [],
   "source": [
    "d = np.array([[1, 2], [3, 4]])"
   ]
  },
  {
   "cell_type": "code",
   "execution_count": 41,
   "id": "e5489d94",
   "metadata": {},
   "outputs": [],
   "source": [
    "e = np.array([[-1, -2], [-3, -4]])"
   ]
  },
  {
   "cell_type": "markdown",
   "id": "c6357d44",
   "metadata": {},
   "source": [
    "### 1. Reshaping Arrays\n",
    "*.reshape( )* > We can reshape arrays as long as the new shape's bound is equal.<br>\n",
    "*.ravel( )* > We can flatten arrays to one dimension."
   ]
  },
  {
   "cell_type": "code",
   "execution_count": 42,
   "id": "6d52bdf6",
   "metadata": {},
   "outputs": [
    {
     "data": {
      "text/plain": [
       "array([[ 1,  2,  3,  4],\n",
       "       [ 5,  6,  7,  8],\n",
       "       [ 9, 10, 11, 12],\n",
       "       [13, 14, 15, 16]])"
      ]
     },
     "execution_count": 42,
     "metadata": {},
     "output_type": "execute_result"
    }
   ],
   "source": [
    "a.reshape(4, 4)"
   ]
  },
  {
   "cell_type": "code",
   "execution_count": 43,
   "id": "b5eb0fef",
   "metadata": {},
   "outputs": [
    {
     "data": {
      "text/plain": [
       "array([[ 1,  2,  3,  4,  5,  6,  7,  8],\n",
       "       [ 9, 10, 11, 12, 13, 14, 15, 16]])"
      ]
     },
     "execution_count": 43,
     "metadata": {},
     "output_type": "execute_result"
    }
   ],
   "source": [
    "a.reshape(2, 8)"
   ]
  },
  {
   "cell_type": "code",
   "execution_count": 44,
   "id": "c2e88337",
   "metadata": {},
   "outputs": [
    {
     "data": {
      "text/plain": [
       "array([[ 1,  2],\n",
       "       [ 3,  4],\n",
       "       [ 5,  6],\n",
       "       [ 7,  8],\n",
       "       [ 9, 10],\n",
       "       [11, 12],\n",
       "       [13, 14],\n",
       "       [15, 16]])"
      ]
     },
     "execution_count": 44,
     "metadata": {},
     "output_type": "execute_result"
    }
   ],
   "source": [
    "a.reshape(8, 2)"
   ]
  },
  {
   "cell_type": "code",
   "execution_count": 45,
   "id": "1287c112",
   "metadata": {},
   "outputs": [
    {
     "data": {
      "text/plain": [
       "array([[[ 1,  2],\n",
       "        [ 3,  4],\n",
       "        [ 5,  6],\n",
       "        [ 7,  8]],\n",
       "\n",
       "       [[ 9, 10],\n",
       "        [11, 12],\n",
       "        [13, 14],\n",
       "        [15, 16]]])"
      ]
     },
     "execution_count": 45,
     "metadata": {},
     "output_type": "execute_result"
    }
   ],
   "source": [
    "a.reshape(2, 4, 2)"
   ]
  },
  {
   "cell_type": "code",
   "execution_count": 46,
   "id": "fb5a57a6",
   "metadata": {
    "scrolled": true
   },
   "outputs": [
    {
     "data": {
      "text/plain": [
       "array([[[[ 1,  2],\n",
       "         [ 3,  4]],\n",
       "\n",
       "        [[ 5,  6],\n",
       "         [ 7,  8]]],\n",
       "\n",
       "\n",
       "       [[[ 9, 10],\n",
       "         [11, 12]],\n",
       "\n",
       "        [[13, 14],\n",
       "         [15, 16]]]])"
      ]
     },
     "execution_count": 46,
     "metadata": {},
     "output_type": "execute_result"
    }
   ],
   "source": [
    "a.reshape(2, 2, 2, 2)"
   ]
  },
  {
   "cell_type": "code",
   "execution_count": 47,
   "id": "dee599d5",
   "metadata": {
    "scrolled": false
   },
   "outputs": [
    {
     "data": {
      "text/plain": [
       "array([[ 1,  2,  3,  4],\n",
       "       [ 5,  6,  7,  8],\n",
       "       [ 9, 10, 11, 12],\n",
       "       [13, 14, 15, 16]])"
      ]
     },
     "execution_count": 47,
     "metadata": {},
     "output_type": "execute_result"
    }
   ],
   "source": [
    "x = a.reshape(4, 4)\n",
    "x"
   ]
  },
  {
   "cell_type": "markdown",
   "id": "e72f4fb1",
   "metadata": {},
   "source": [
    "### 2. Stacking Arrays\n",
    "We can stack arrays horizontally and vertically asl long as H and V sizes are equal.<br>\n",
    "*np.vstack( )* > vertical stacking<br>\n",
    "*np.hstack( )* > horizontal stacking"
   ]
  },
  {
   "cell_type": "code",
   "execution_count": 48,
   "id": "baae7dc4",
   "metadata": {},
   "outputs": [
    {
     "data": {
      "text/plain": [
       "array([[8, 7, 8, 7],\n",
       "       [7, 8, 7, 8],\n",
       "       [5, 6, 5, 6],\n",
       "       [6, 5, 6, 5]])"
      ]
     },
     "execution_count": 48,
     "metadata": {},
     "output_type": "execute_result"
    }
   ],
   "source": [
    "np.vstack((b, c))"
   ]
  },
  {
   "cell_type": "code",
   "execution_count": 49,
   "id": "2e5de1d3",
   "metadata": {},
   "outputs": [
    {
     "data": {
      "text/plain": [
       "array([[ 1,  2, -1, -2],\n",
       "       [ 3,  4, -3, -4]])"
      ]
     },
     "execution_count": 49,
     "metadata": {},
     "output_type": "execute_result"
    }
   ],
   "source": [
    "np.hstack((d, e))"
   ]
  },
  {
   "cell_type": "code",
   "execution_count": 50,
   "id": "a568ada9",
   "metadata": {
    "scrolled": true
   },
   "outputs": [
    {
     "data": {
      "text/plain": [
       "array([[8, 7, 8, 7],\n",
       "       [7, 8, 7, 8],\n",
       "       [5, 6, 5, 6],\n",
       "       [6, 5, 6, 5],\n",
       "       [8, 7, 8, 7],\n",
       "       [7, 8, 7, 8]])"
      ]
     },
     "execution_count": 50,
     "metadata": {},
     "output_type": "execute_result"
    }
   ],
   "source": [
    "np.vstack((b, c, b))"
   ]
  },
  {
   "cell_type": "markdown",
   "id": "823c6202",
   "metadata": {},
   "source": [
    "### 2. Concatenating Arrays\n",
    "We can concatenate arrays horizontally and vertically with *np.concatenate([array1_name, array2_name], axis = n)*."
   ]
  },
  {
   "cell_type": "code",
   "execution_count": 51,
   "id": "98bee691",
   "metadata": {},
   "outputs": [
    {
     "data": {
      "text/plain": [
       "array([[8, 7, 8, 7],\n",
       "       [7, 8, 7, 8],\n",
       "       [5, 6, 5, 6],\n",
       "       [6, 5, 6, 5]])"
      ]
     },
     "execution_count": 51,
     "metadata": {},
     "output_type": "execute_result"
    }
   ],
   "source": [
    "np.concatenate([b, c], axis = 0)"
   ]
  },
  {
   "cell_type": "code",
   "execution_count": 52,
   "id": "416b01cc",
   "metadata": {},
   "outputs": [
    {
     "data": {
      "text/plain": [
       "array([[8, 7, 8, 7, 5, 6, 5, 6],\n",
       "       [7, 8, 7, 8, 6, 5, 6, 5]])"
      ]
     },
     "execution_count": 52,
     "metadata": {},
     "output_type": "execute_result"
    }
   ],
   "source": [
    "np.concatenate([b, c], axis = 1)"
   ]
  }
 ],
 "metadata": {
  "kernelspec": {
   "display_name": "Python 3 (ipykernel)",
   "language": "python",
   "name": "python3"
  },
  "language_info": {
   "codemirror_mode": {
    "name": "ipython",
    "version": 3
   },
   "file_extension": ".py",
   "mimetype": "text/x-python",
   "name": "python",
   "nbconvert_exporter": "python",
   "pygments_lexer": "ipython3",
   "version": "3.11.2"
  }
 },
 "nbformat": 4,
 "nbformat_minor": 5
}
