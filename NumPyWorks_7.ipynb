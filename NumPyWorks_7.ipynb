{
 "cells": [
  {
   "cell_type": "markdown",
   "id": "2082e425",
   "metadata": {},
   "source": [
    "### 0. Declarations"
   ]
  },
  {
   "cell_type": "code",
   "execution_count": 1,
   "id": "8a56bd3a",
   "metadata": {},
   "outputs": [],
   "source": [
    "import numpy as np"
   ]
  },
  {
   "cell_type": "markdown",
   "id": "806edd9d",
   "metadata": {},
   "source": [
    "### 1. Load Data From File\n",
    "We can get data from an external file."
   ]
  },
  {
   "cell_type": "code",
   "execution_count": 6,
   "id": "fb4a0d94",
   "metadata": {},
   "outputs": [
    {
     "data": {
      "text/plain": [
       "array([[ 1,  2,  3,  4],\n",
       "       [ 5,  6,  7,  8],\n",
       "       [ 9, 10, 11, 12]], dtype=int16)"
      ]
     },
     "execution_count": 6,
     "metadata": {},
     "output_type": "execute_result"
    }
   ],
   "source": [
    "a = np.genfromtxt(\"data.txt\", delimiter = \",\", dtype = \"int16\")\n",
    "a"
   ]
  },
  {
   "cell_type": "markdown",
   "id": "99143791",
   "metadata": {},
   "source": [
    "### 2. Advanced Indexing and Boolean Masking\n",
    "We can pass some conditions while listing data."
   ]
  },
  {
   "cell_type": "code",
   "execution_count": 7,
   "id": "b3da32f0",
   "metadata": {},
   "outputs": [
    {
     "data": {
      "text/plain": [
       "array([ 6,  7,  8,  9, 10, 11, 12], dtype=int16)"
      ]
     },
     "execution_count": 7,
     "metadata": {},
     "output_type": "execute_result"
    }
   ],
   "source": [
    "a[a > 5]"
   ]
  },
  {
   "cell_type": "markdown",
   "id": "6925854c",
   "metadata": {},
   "source": [
    "We can give some indexes as list."
   ]
  },
  {
   "cell_type": "code",
   "execution_count": 15,
   "id": "77c58a97",
   "metadata": {},
   "outputs": [
    {
     "data": {
      "text/plain": [
       "array([2, 4, 6, 9])"
      ]
     },
     "execution_count": 15,
     "metadata": {},
     "output_type": "execute_result"
    }
   ],
   "source": [
    "b = np.array([1, 2, 3, 4, 5, 6, 7, 8, 9])\n",
    "b[[1, 3, 5, -1]]"
   ]
  },
  {
   "cell_type": "markdown",
   "id": "ff6407ca",
   "metadata": {},
   "source": [
    "We can boolean mask the data with a condition."
   ]
  },
  {
   "cell_type": "code",
   "execution_count": 30,
   "id": "5bd4b291",
   "metadata": {},
   "outputs": [
    {
     "data": {
      "text/plain": [
       "array([[False, False, False, False],\n",
       "       [False,  True,  True,  True],\n",
       "       [ True,  True,  True,  True]])"
      ]
     },
     "execution_count": 30,
     "metadata": {},
     "output_type": "execute_result"
    }
   ],
   "source": [
    "(a > 5)"
   ]
  },
  {
   "cell_type": "code",
   "execution_count": 28,
   "id": "4cce21d3",
   "metadata": {},
   "outputs": [
    {
     "data": {
      "text/plain": [
       "array([[False, False, False, False],\n",
       "       [False,  True,  True,  True],\n",
       "       [ True, False, False, False]])"
      ]
     },
     "execution_count": 28,
     "metadata": {},
     "output_type": "execute_result"
    }
   ],
   "source": [
    "(a > 5) & (a < 10)"
   ]
  },
  {
   "cell_type": "code",
   "execution_count": 24,
   "id": "de22b22f",
   "metadata": {
    "scrolled": true
   },
   "outputs": [
    {
     "data": {
      "text/plain": [
       "array([False,  True,  True])"
      ]
     },
     "execution_count": 24,
     "metadata": {},
     "output_type": "execute_result"
    }
   ],
   "source": [
    "np.any(a > 5, axis = 1)"
   ]
  }
 ],
 "metadata": {
  "kernelspec": {
   "display_name": "Python 3 (ipykernel)",
   "language": "python",
   "name": "python3"
  },
  "language_info": {
   "codemirror_mode": {
    "name": "ipython",
    "version": 3
   },
   "file_extension": ".py",
   "mimetype": "text/x-python",
   "name": "python",
   "nbconvert_exporter": "python",
   "pygments_lexer": "ipython3",
   "version": "3.11.2"
  }
 },
 "nbformat": 4,
 "nbformat_minor": 5
}
